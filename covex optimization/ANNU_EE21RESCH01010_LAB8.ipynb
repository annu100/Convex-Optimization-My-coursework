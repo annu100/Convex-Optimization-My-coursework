{
  "nbformat": 4,
  "nbformat_minor": 0,
  "metadata": {
    "colab": {
      "name": "CVXPY_EE20MTECH12001_L8_mod.ipynb",
      "provenance": []
    },
    "kernelspec": {
      "name": "python3",
      "display_name": "Python 3"
    },
    "language_info": {
      "name": "python"
    }
  },
  "cells": [
    {
      "cell_type": "markdown",
      "metadata": {
        "id": "tIPiBNXTKJat"
      },
      "source": [
        "**EE21RESCH01010 : ANNU\n",
        "CONVEX LAB 8**"
      ]
    },
    {
      "cell_type": "markdown",
      "metadata": {
        "id": "9l5btfbCdx9r"
      },
      "source": [
        "A company ’ XYZ ’ is constructing a road through a hilly area. The height\n",
        "of the roadbed should be chosen in such a way that the total cost of construction\n",
        "is minimized. The construction cost depends on the difference between height\n",
        "of the roadbed and the current elevation of the road. hi gives the height of\n",
        "the roadbed at a distance di meters down the road, where d > 0 is a given\n",
        "discretization. The existing elevation at a point di meters down the road is\n",
        "given by ei\n",
        ".\n",
        "The construction cost is mainly affected by the cuts(roadbed below existing\n",
        "elevation) and fills(roadbed above existing elevation) present in the road. The\n",
        "cut cost φ\n",
        "cut and fill cost φ\n",
        "\n",
        "f ill are the linear functions of the difference between\n",
        "the existing elevation of the road and height of the roadbed. The overall cost\n",
        "(C) is a linear combination of the cut cost and fill cost.\n",
        "\n",
        "\n",
        "The goal is to minimize C subject to the following constraints.\n",
        "* The maximum allowable road slope( first derivative) is D(1)\n",
        ".\n",
        "* The maximum allowable curvature(second derivative) is D(2)\n",
        ".\n",
        "\n",
        "* The maximum allowable third derivative is D(3)\n",
        ".\n",
        "\n",
        "Formulate the optimization problem and verify the convexity of cut and fill\n",
        "functions by plotting for u in range (1:0.1:10). Find the optimal grading plan\n",
        "for the problem with data given in the file data.m or data.py . Plot hi\n",
        ",ei and\n",
        "\n",
        "hi − ei for the optimal grading plan and report the associated cost."
      ]
    },
    {
      "cell_type": "code",
      "metadata": {
        "id": "urtNt3AOKSyW"
      },
      "source": [
        "import numpy as np\n",
        "import cvxpy as cp\n",
        "import matplotlib.pyplot as plt"
      ],
      "execution_count": 2,
      "outputs": []
    },
    {
      "cell_type": "code",
      "metadata": {
        "id": "0vXkiNAvMt7l"
      },
      "source": [
        "def cost_array(u):\n",
        "  uplus=cp.maximum(u,0)\n",
        "  uminus=cp.maximum(-u,0)\n",
        "  phi_fill=cp.square(uplus)*2+ uplus*30\n",
        "  phi_cut=cp.square(uminus)*12+ uminus\n",
        "\n",
        "  cost=phi_fill+phi_cut\n",
        "  return cost"
      ],
      "execution_count": 53,
      "outputs": []
    },
    {
      "cell_type": "code",
      "metadata": {
        "colab": {
          "base_uri": "https://localhost:8080/"
        },
        "id": "3uhcQ7i-Kb2H",
        "outputId": "d095cc04-37bf-4c9c-e516-475745b50916"
      },
      "source": [
        "#Data given to us\n",
        "n=100\n",
        "x=np.linspace(1,101,100)\n",
        "e=np.array([5*np.sin(i/(n*3*np.pi))+np.sin(i/(n*10*np.pi)) for i in x]) #1st expression as given in pdf is used\n",
        "#e=np.array([5*np.sin((3*np.pi*i)/n)+np.sin((10*np.pi*i)/n) for i in x])\n",
        "d=np.arange(1,101,1)\n",
        "\n",
        "D=[0.08,0.025,0.005] #Constraints gradient vector\n",
        "\n",
        "#Reshaping vectors\n",
        "e=np.reshape(e,(n,1))\n",
        "d=np.reshape(d,(n,1))\n",
        "\n",
        "#CVXPY VARIABLE\n",
        "h=cp.Variable((n,1))\n",
        "u=h-e\n",
        "\n",
        "#Constraints declaration\n",
        "constraints=[]\n",
        "#derivatives\n",
        "G1=np.zeros((n,1))\n",
        "G2=np.zeros((n,1))\n",
        "G3=np.zeros((n,1))\n",
        "\n",
        "for i in range(1,n):\n",
        "  np.append(G1,(h[i]-h[i-1]))\n",
        "for i in range(1,n-1):\n",
        "  np.append(G2,(G1[i]-G1[i-1]))\n",
        "for i in range(1,n-2):\n",
        "  np.append(G3,(G2[i]-G2[i-1]))\n",
        "for i in range(1,n-1):\n",
        "  np.append(constraints,cp.abs(cp.max(G1[i]))<=D[0])\n",
        "for i in range(1,n-2):\n",
        "  np.append(constraints,cp.abs(cp.max(G2[i]))<=D[1])\n",
        "for i in range(1,n-3):\n",
        "  np.append(constraints,cp.abs(cp.max(G3[i]))<=D[2])\n",
        "\n",
        "\n",
        "cost=cost_array(u)\n",
        "\n",
        "obj=cp.Minimize(cp.sum(cost))\n",
        "\n",
        "prob=cp.Problem(obj,constraints)\n",
        "try:\n",
        "   prob.solve()\n",
        "except Exception as e:\n",
        "  print(e)\n",
        "print(\"optimal status:\",prob.status)\n",
        "print(\"our minimized cost:\",prob.solve())\n",
        "print(\"height values are\",h.value)"
      ],
      "execution_count": 115,
      "outputs": [
        {
          "output_type": "stream",
          "text": [
            "optimal status: optimal\n",
            "our minimized cost: 6.968214982988575e-06\n",
            "height values are [[0.00562348]\n",
            " [0.01130375]\n",
            " [0.01698401]\n",
            " [0.02266425]\n",
            " [0.02834446]\n",
            " [0.03402464]\n",
            " [0.03970479]\n",
            " [0.0453849 ]\n",
            " [0.05106495]\n",
            " [0.05674495]\n",
            " [0.06242488]\n",
            " [0.06810475]\n",
            " [0.07378455]\n",
            " [0.07946426]\n",
            " [0.08514389]\n",
            " [0.09082342]\n",
            " [0.09650286]\n",
            " [0.10218219]\n",
            " [0.10786141]\n",
            " [0.11354051]\n",
            " [0.11921949]\n",
            " [0.12489834]\n",
            " [0.13057705]\n",
            " [0.13625562]\n",
            " [0.14193404]\n",
            " [0.14761231]\n",
            " [0.15329041]\n",
            " [0.15896835]\n",
            " [0.16464612]\n",
            " [0.17032371]\n",
            " [0.17600111]\n",
            " [0.18167832]\n",
            " [0.18735533]\n",
            " [0.19303213]\n",
            " [0.19870873]\n",
            " [0.20438511]\n",
            " [0.21006127]\n",
            " [0.2157372 ]\n",
            " [0.22141289]\n",
            " [0.22708834]\n",
            " [0.23276355]\n",
            " [0.2384385 ]\n",
            " [0.24411319]\n",
            " [0.24978762]\n",
            " [0.25546177]\n",
            " [0.26113565]\n",
            " [0.26680924]\n",
            " [0.27248254]\n",
            " [0.27815554]\n",
            " [0.28382824]\n",
            " [0.28950063]\n",
            " [0.29517271]\n",
            " [0.30084446]\n",
            " [0.30651589]\n",
            " [0.31218698]\n",
            " [0.31785773]\n",
            " [0.32352814]\n",
            " [0.32919819]\n",
            " [0.33486789]\n",
            " [0.34053722]\n",
            " [0.34620618]\n",
            " [0.35187476]\n",
            " [0.35754296]\n",
            " [0.36321077]\n",
            " [0.36887818]\n",
            " [0.37454519]\n",
            " [0.38021179]\n",
            " [0.38587798]\n",
            " [0.39154375]\n",
            " [0.39720909]\n",
            " [0.402874  ]\n",
            " [0.40853847]\n",
            " [0.4142025 ]\n",
            " [0.41986607]\n",
            " [0.42552919]\n",
            " [0.43119184]\n",
            " [0.43685403]\n",
            " [0.44251573]\n",
            " [0.44817696]\n",
            " [0.4538377 ]\n",
            " [0.45949794]\n",
            " [0.46515768]\n",
            " [0.47081692]\n",
            " [0.47647564]\n",
            " [0.48213384]\n",
            " [0.48779152]\n",
            " [0.49344867]\n",
            " [0.49910528]\n",
            " [0.50476134]\n",
            " [0.51041686]\n",
            " [0.51607182]\n",
            " [0.52172622]\n",
            " [0.52738004]\n",
            " [0.5330333 ]\n",
            " [0.53868597]\n",
            " [0.54433806]\n",
            " [0.54998955]\n",
            " [0.55564045]\n",
            " [0.56129074]\n",
            " [0.56694042]]\n"
          ],
          "name": "stdout"
        }
      ]
    },
    {
      "cell_type": "code",
      "metadata": {
        "colab": {
          "base_uri": "https://localhost:8080/",
          "height": 312
        },
        "id": "cmAeXu-sRZp8",
        "outputId": "e3c0e9a1-2bf9-4c66-d75e-0ee6a8d89d01"
      },
      "source": [
        "plt.plot(h.value,d)\n",
        "plt.xlabel(\"d\")\n",
        "plt.ylabel(\"height\")\n",
        "plt.title(\"height of Hill\")"
      ],
      "execution_count": 109,
      "outputs": [
        {
          "output_type": "execute_result",
          "data": {
            "text/plain": [
              "Text(0.5, 1.0, 'height of Hill')"
            ]
          },
          "metadata": {
            "tags": []
          },
          "execution_count": 109
        },
        {
          "output_type": "display_data",
          "data": {
            "image/png": "[encoded data removed]",
            "text/plain": [
              "<Figure size 432x288 with 1 Axes>"
            ]
          },
          "metadata": {
            "tags": [],
            "needs_background": "light"
          }
        }
      ]
    },
    {
      "cell_type": "code",
      "metadata": {
        "colab": {
          "base_uri": "https://localhost:8080/",
          "height": 312
        },
        "id": "sQr3aCNwY02K",
        "outputId": "a63c583c-bd16-446d-84e6-7239e0403342"
      },
      "source": [
        "plt.plot((h.value-e),d) #u=h-e\n",
        "plt.xlabel(\"d\")\n",
        "plt.ylabel(\"u\")\n",
        "plt.title(\"u plot\")"
      ],
      "execution_count": 110,
      "outputs": [
        {
          "output_type": "execute_result",
          "data": {
            "text/plain": [
              "Text(0.5, 1.0, 'u plot')"
            ]
          },
          "metadata": {
            "tags": []
          },
          "execution_count": 110
        },
        {
          "output_type": "display_data",
          "data": {
            "image/png": "[encoded data removed]",
            "text/plain": [
              "<Figure size 432x288 with 1 Axes>"
            ]
          },
          "metadata": {
            "tags": [],
            "needs_background": "light"
          }
        }
      ]
    },
    {
      "cell_type": "code",
      "metadata": {
        "colab": {
          "base_uri": "https://localhost:8080/",
          "height": 298
        },
        "id": "MKRVSXVtRZUF",
        "outputId": "2df230e5-af8d-4cab-9b0e-e9c399571125"
      },
      "source": [
        "#fill and cut function function plot\n",
        "U=np.arange(1,11,0.1)\n",
        "Uplus=np.array([max(u,0) for u in U])\n",
        "  \n",
        "phi_fill=np.array([np.square(uplus)*2+ uplus*30 for uplus in Uplus])\n",
        "phi_fill=np.reshape(phi_fill,(100,-1))\n",
        "plt.subplot(1,2,1)\n",
        "plt.plot(U,phi_fill)\n",
        "plt.title(\"fill function\")\n",
        "U=np.arange(1,11,0.1)\n",
        "Uminus=np.array([max((u),0) for u in U])\n",
        "phi_cut=np.array([np.square(uminus)*12+ uminus for uminus in Uminus])\n",
        "plt.subplot(1,2,2)\n",
        "plt.title(\"cut function\")\n",
        "plt.plot((-U),phi_cut)\n",
        "\n",
        "#CONVEXITY CAN BE SEEN FROM GRAPGH"
      ],
      "execution_count": 105,
      "outputs": [
        {
          "output_type": "execute_result",
          "data": {
            "text/plain": [
              "[<matplotlib.lines.Line2D at 0x7f6c3bc06b50>]"
            ]
          },
          "metadata": {
            "tags": []
          },
          "execution_count": 105
        },
        {
          "output_type": "display_data",
          "data": {
            "image/png": "[encoded data removed]",
            "text/plain": [
              "<Figure size 432x288 with 2 Axes>"
            ]
          },
          "metadata": {
            "tags": [],
            "needs_background": "light"
          }
        }
      ]
    },
    {
      "cell_type": "code",
      "metadata": {
        "colab": {
          "base_uri": "https://localhost:8080/",
          "height": 312
        },
        "id": "GtqpZpUGMrOP",
        "outputId": "add9c29e-da3e-47e2-b730-b79a81afe00d"
      },
      "source": [
        "plt.plot(d,e)\n",
        "plt.xlabel(\"d\")\n",
        "plt.ylabel(\"elevation\")\n",
        "plt.title(\"Elevation of Hill\")"
      ],
      "execution_count": 111,
      "outputs": [
        {
          "output_type": "execute_result",
          "data": {
            "text/plain": [
              "Text(0.5, 1.0, 'Elevation of Hill')"
            ]
          },
          "metadata": {
            "tags": []
          },
          "execution_count": 111
        },
        {
          "output_type": "display_data",
          "data": {
            "image/png": "[encoded data removed]",
            "text/plain": [
              "<Figure size 432x288 with 1 Axes>"
            ]
          },
          "metadata": {
            "tags": [],
            "needs_background": "light"
          }
        }
      ]
    },
    {
      "cell_type": "code",
      "metadata": {
        "colab": {
          "base_uri": "https://localhost:8080/"
        },
        "id": "K2O3xJ_QQYSH",
        "outputId": "02909de0-eab3-4e06-e17c-f1c8cd8da759"
      },
      "source": [
        "type(cost)"
      ],
      "execution_count": 112,
      "outputs": [
        {
          "output_type": "execute_result",
          "data": {
            "text/plain": [
              "cvxpy.atoms.affine.add_expr.AddExpression"
            ]
          },
          "metadata": {
            "tags": []
          },
          "execution_count": 112
        }
      ]
    },
    {
      "cell_type": "code",
      "metadata": {
        "colab": {
          "base_uri": "https://localhost:8080/"
        },
        "id": "EIJd1enETlgU",
        "outputId": "58c1cdcf-7525-408f-9bac-d26f26078da8"
      },
      "source": [
        "cost"
      ],
      "execution_count": 113,
      "outputs": [
        {
          "output_type": "execute_result",
          "data": {
            "text/plain": [
              "Expression(CONVEX, NONNEGATIVE, (100, 1))"
            ]
          },
          "metadata": {
            "tags": []
          },
          "execution_count": 113
        }
      ]
    },
    {
      "cell_type": "code",
      "metadata": {
        "id": "Plr_ccv9UBU6",
        "colab": {
          "base_uri": "https://localhost:8080/"
        },
        "outputId": "e47bcac9-bb22-4874-ad53-614bc8fa836a"
      },
      "source": [
        "print(type(e))"
      ],
      "execution_count": 114,
      "outputs": [
        {
          "output_type": "stream",
          "text": [
            "<class 'numpy.ndarray'>\n"
          ],
          "name": "stdout"
        }
      ]
    }
  ]
}