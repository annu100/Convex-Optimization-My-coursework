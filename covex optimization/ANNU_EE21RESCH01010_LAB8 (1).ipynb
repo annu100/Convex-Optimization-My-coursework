{
  "nbformat": 4,
  "nbformat_minor": 0,
  "metadata": {
    "colab": {
      "name": "ANNU_EE21RESCH01010_LAB8.ipynb",
      "provenance": []
    },
    "kernelspec": {
      "display_name": "Python 3",
      "name": "python3"
    },
    "language_info": {
      "name": "python"
    }
  },
  "cells": [
    {
      "cell_type": "markdown",
      "metadata": {
        "id": "tIPiBNXTKJat"
      },
      "source": [
        "**EE21RESCH01010 : ANNU\n",
        "CONVEX LAB 8**"
      ]
    },
    {
      "cell_type": "markdown",
      "metadata": {
        "id": "9l5btfbCdx9r"
      },
      "source": [
        "A company ’ XYZ ’ is constructing a road through a hilly area. The height\n",
        "of the roadbed should be chosen in such a way that the total cost of construction\n",
        "is minimized. The construction cost depends on the difference between height\n",
        "of the roadbed and the current elevation of the road. hi gives the height of\n",
        "the roadbed at a distance di meters down the road, where d > 0 is a given\n",
        "discretization. The existing elevation at a point di meters down the road is\n",
        "given by ei\n",
        ".\n",
        "The construction cost is mainly affected by the cuts(roadbed below existing\n",
        "elevation) and fills(roadbed above existing elevation) present in the road. The\n",
        "cut cost φ\n",
        "cut and fill cost φ\n",
        "\n",
        "f ill are the linear functions of the difference between\n",
        "the existing elevation of the road and height of the roadbed. The overall cost\n",
        "(C) is a linear combination of the cut cost and fill cost.\n",
        "\n",
        "\n",
        "The goal is to minimize C subject to the following constraints.\n",
        "* The maximum allowable road slope( first derivative) is D(1)\n",
        ".\n",
        "* The maximum allowable curvature(second derivative) is D(2)\n",
        ".\n",
        "\n",
        "* The maximum allowable third derivative is D(3)\n",
        ".\n",
        "\n",
        "Formulate the optimization problem and verify the convexity of cut and fill\n",
        "functions by plotting for u in range (1:0.1:10). Find the optimal grading plan\n",
        "for the problem with data given in the file data.m or data.py . Plot hi\n",
        ",ei and\n",
        "\n",
        "hi − ei for the optimal grading plan and report the associated cost."
      ]
    },
    {
      "cell_type": "code",
      "metadata": {
        "id": "urtNt3AOKSyW"
      },
      "source": [
        "#Importing libraries\n",
        "import numpy as np\n",
        "import cvxpy as cp\n",
        "import matplotlib.pyplot as plt"
      ],
      "execution_count": 66,
      "outputs": []
    },
    {
      "cell_type": "code",
      "metadata": {
        "colab": {
          "base_uri": "https://localhost:8080/"
        },
        "id": "3uhcQ7i-Kb2H",
        "outputId": "ca5b91e7-af23-4dc1-e794-828d4be371bf"
      },
      "source": [
        "#Data given to us\n",
        "n=100\n",
        "x=np.linspace(1,101,100)\n",
        "#e=np.array([5*np.sin(i/(n*3*np.pi))+np.sin(i/(n*10*np.pi)) for i in x]) #1st expression as given in pdf is used\n",
        "e=np.array([5*np.sin((3*np.pi*i)/n)+np.sin((10*np.pi*i)/n) for i in x]) #We are asked to use this expression\n",
        "d=np.arange(1,101,1)\n",
        "\n",
        "D=[0.08,0.025,0.005] #Constraints gradient vector\n",
        "\n",
        "#Cost array creation\n",
        "def cost_array(u):\n",
        "  uplus=cp.maximum(u,0)\n",
        "  uminus=cp.maximum(-u,0)\n",
        "  phi_fill=cp.square(uplus)*2+ uplus*30\n",
        "  phi_cut=cp.square(uminus)*12+ uminus\n",
        "\n",
        "  cost=phi_fill+phi_cut\n",
        "  return cost\n",
        "\n",
        "\n",
        "#Reshaping vectors\n",
        "e=np.reshape(e,(n,1))\n",
        "d=np.reshape(d,(n,1))\n",
        "#CVXPY VARIABLE\n",
        "h=cp.Variable((n,1))\n",
        "u=h-e #diff between actual and new elevation\n",
        "\n",
        "\n",
        "\n",
        "#OBJECTIVE FUNCTION\n",
        "cost=cost_array(u)\n",
        "tot_cost=cp.sum(cost)\n",
        "#Minimise cost\n",
        "obj=cp.Minimize(tot_cost)\n",
        "\n",
        "\n",
        "#Constraints declaration\n",
        "constraints=[]\n",
        "#derivatives\n",
        "G1=np.zeros((n,1))\n",
        "G2=np.zeros((n,1))\n",
        "G3=np.zeros((n,1))\n",
        "\n",
        "#G1=h[1:n]-h[0:n-1]\n",
        "#G2=G1[1:n-1]-G1[0:n-2]\n",
        "#G3=G2[1:n-2]-G2[0:n-3]\n",
        "G1=h[1:(h.shape[0])-1]-h[0:(h.shape[0])-2]    #Else all values are put as zero as mentioned in class by sir\n",
        "G2=G1[1:(G1.shape[0])-1]-G1[0:(G1.shape[0])-2] #Else all values are put as zero as mentioned in class by sir\n",
        "\n",
        "G3=G2[1:(G2.shape[0])-1]-G2[0:(G2.shape[0])-2] #Else all values are put as zero as mentioned in class by sir\n",
        "\n",
        "constraints=[cp.max(cp.abs(G1))<=D[0],cp.max(cp.abs(G2))<=D[1],cp.max(cp.abs(G3))<=D[2]]\n",
        "\n",
        "\n",
        "#CVXPY PROBLEM CREATION\n",
        "prob=cp.Problem(obj,constraints)\n",
        "try:\n",
        "   prob.solve(solver=cp.ECOS)\n",
        "except Exception as e:\n",
        "  print(e)\n",
        "\n",
        "#Printing values\n",
        "print(\"optimal status:\",prob.status)\n",
        "#print(\"our minimized cost:\",prob.solve(solver=cp.ECOS))\n",
        "print(\"total minimised cost\",tot_cost.value)\n",
        "print(\"existing elevation values are:\",e)\n",
        "print(\" new height values are\",h.value)"
      ],
      "execution_count": 72,
      "outputs": [
        {
          "output_type": "stream",
          "text": [
            "optimal status: optimal\n",
            "total minimised cost 7520.5707873283445\n",
            "existing elevation values are: [[ 7.79558561e-01]\n",
            " [ 1.53193139e+00]\n",
            " [ 2.21682611e+00]\n",
            " [ 2.80784763e+00]\n",
            " [ 3.28682017e+00]\n",
            " [ 3.64523246e+00]\n",
            " [ 3.88473155e+00]\n",
            " [ 4.01661933e+00]\n",
            " [ 4.06040495e+00]\n",
            " [ 4.04156080e+00]\n",
            " [ 3.98870859e+00]\n",
            " [ 3.93051907e+00]\n",
            " [ 3.89263722e+00]\n",
            " [ 3.89494173e+00]\n",
            " [ 3.94941425e+00]\n",
            " [ 4.05883227e+00]\n",
            " [ 4.21641742e+00]\n",
            " [ 4.40647472e+00]\n",
            " [ 4.60595952e+00]\n",
            " [ 4.78681546e+00]\n",
            " [ 4.91884986e+00]\n",
            " [ 4.97285852e+00]\n",
            " [ 4.92368707e+00]\n",
            " [ 4.75292183e+00]\n",
            " [ 4.45093970e+00]\n",
            " [ 4.01811078e+00]\n",
            " [ 3.46503107e+00]\n",
            " [ 2.81175988e+00]\n",
            " [ 2.08613523e+00]\n",
            " [ 1.32133271e+00]\n",
            " [ 5.52908351e-01]\n",
            " [-1.84382245e-01]\n",
            " [-8.59674395e-01]\n",
            " [-1.44868917e+00]\n",
            " [-1.93576701e+00]\n",
            " [-2.31504063e+00]\n",
            " [-2.59063355e+00]\n",
            " [-2.77586802e+00]\n",
            " [-2.89156477e+00]\n",
            " [-2.96360790e+00]\n",
            " [-3.02002106e+00]\n",
            " [-3.08785013e+00]\n",
            " [-3.19016659e+00]\n",
            " [-3.34349331e+00]\n",
            " [-3.55591248e+00]\n",
            " [-3.82604668e+00]\n",
            " [-4.14301684e+00]\n",
            " [-4.48738278e+00]\n",
            " [-4.83297388e+00]\n",
            " [-5.14942806e+00]\n",
            " [-5.40518604e+00]\n",
            " [-5.57064243e+00]\n",
            " [-5.62113889e+00]\n",
            " [-5.53950013e+00]\n",
            " [-5.31785889e+00]\n",
            " [-4.95858657e+00]\n",
            " [-4.47423547e+00]\n",
            " [-3.88649648e+00]\n",
            " [-3.22427474e+00]\n",
            " [-2.52107290e+00]\n",
            " [-1.81194113e+00]\n",
            " [-1.13029557e+00]\n",
            " [-5.04920151e-01]\n",
            " [ 4.25519734e-02]\n",
            " [ 4.99428999e-01]\n",
            " [ 8.62847715e-01]\n",
            " [ 1.13967217e+00]\n",
            " [ 1.34541745e+00]\n",
            " [ 1.50230949e+00]\n",
            " [ 1.63667834e+00]\n",
            " [ 1.77594858e+00]\n",
            " [ 1.94553082e+00]\n",
            " [ 2.16592827e+00]\n",
            " [ 2.45035026e+00]\n",
            " [ 2.80307422e+00]\n",
            " [ 3.21872264e+00]\n",
            " [ 3.68252978e+00]\n",
            " [ 4.17157395e+00]\n",
            " [ 4.65685458e+00]\n",
            " [ 5.10600854e+00]\n",
            " [ 5.48639608e+00]\n",
            " [ 5.76824955e+00]\n",
            " [ 5.92757156e+00]\n",
            " [ 5.94849370e+00]\n",
            " [ 5.82486076e+00]\n",
            " [ 5.56088222e+00]\n",
            " [ 5.17078556e+00]\n",
            " [ 4.67750542e+00]\n",
            " [ 4.11053848e+00]\n",
            " [ 3.50317693e+00]\n",
            " [ 2.88939524e+00]\n",
            " [ 2.30069909e+00]\n",
            " [ 1.76324905e+00]\n",
            " [ 1.29554367e+00]\n",
            " [ 9.06890800e-01]\n",
            " [ 5.96816764e-01]\n",
            " [ 3.55469438e-01]\n",
            " [ 1.64971681e-01]\n",
            " [ 1.58666756e-03]\n",
            " [-1.61524572e-01]]\n",
            " new height values are [[ 2.48763193]\n",
            " [ 2.56763191]\n",
            " [ 2.64763191]\n",
            " [ 2.72763193]\n",
            " [ 2.80563192]\n",
            " [ 2.87663183]\n",
            " [ 2.93563163]\n",
            " [ 2.97763126]\n",
            " [ 2.99763068]\n",
            " [ 2.99263016]\n",
            " [ 2.96262967]\n",
            " [ 2.91262925]\n",
            " [ 2.84762893]\n",
            " [ 2.77262874]\n",
            " [ 2.69262873]\n",
            " [ 2.61262872]\n",
            " [ 2.53262871]\n",
            " [ 2.4526287 ]\n",
            " [ 2.37262869]\n",
            " [ 2.29262867]\n",
            " [ 2.21262866]\n",
            " [ 2.13262865]\n",
            " [ 2.05262863]\n",
            " [ 1.97262862]\n",
            " [ 1.89262861]\n",
            " [ 1.81262859]\n",
            " [ 1.73262858]\n",
            " [ 1.65262857]\n",
            " [ 1.57262855]\n",
            " [ 1.49262854]\n",
            " [ 1.41262853]\n",
            " [ 1.33262852]\n",
            " [ 1.2526285 ]\n",
            " [ 1.17262849]\n",
            " [ 1.09262848]\n",
            " [ 1.01262847]\n",
            " [ 0.93262845]\n",
            " [ 0.85262844]\n",
            " [ 0.77262843]\n",
            " [ 0.69262842]\n",
            " [ 0.61262841]\n",
            " [ 0.5326284 ]\n",
            " [ 0.45262839]\n",
            " [ 0.37262838]\n",
            " [ 0.29262837]\n",
            " [ 0.21467326]\n",
            " [ 0.14376309]\n",
            " [ 0.08489788]\n",
            " [ 0.04307765]\n",
            " [ 0.02330246]\n",
            " [ 0.0285272 ]\n",
            " [ 0.05870732]\n",
            " [ 0.10884262]\n",
            " [ 0.17393294]\n",
            " [ 0.24897817]\n",
            " [ 0.32897826]\n",
            " [ 0.40897824]\n",
            " [ 0.48897826]\n",
            " [ 0.56897828]\n",
            " [ 0.6489783 ]\n",
            " [ 0.72897832]\n",
            " [ 0.80897834]\n",
            " [ 0.88897836]\n",
            " [ 0.96897838]\n",
            " [ 1.0489784 ]\n",
            " [ 1.12897842]\n",
            " [ 1.20897844]\n",
            " [ 1.28897846]\n",
            " [ 1.36897848]\n",
            " [ 1.4489785 ]\n",
            " [ 1.52897852]\n",
            " [ 1.60897854]\n",
            " [ 1.68897856]\n",
            " [ 1.76897858]\n",
            " [ 1.8489786 ]\n",
            " [ 1.92897862]\n",
            " [ 2.00897863]\n",
            " [ 2.08897865]\n",
            " [ 2.16897867]\n",
            " [ 2.24897869]\n",
            " [ 2.32897871]\n",
            " [ 2.40697874]\n",
            " [ 2.47797869]\n",
            " [ 2.5369785 ]\n",
            " [ 2.57897811]\n",
            " [ 2.59897746]\n",
            " [ 2.59397685]\n",
            " [ 2.56397627]\n",
            " [ 2.51397577]\n",
            " [ 2.44897539]\n",
            " [ 2.37397516]\n",
            " [ 2.29397515]\n",
            " [ 2.21397513]\n",
            " [ 2.13397512]\n",
            " [ 2.05397511]\n",
            " [ 1.9739751 ]\n",
            " [ 1.89397509]\n",
            " [ 1.8139751 ]\n",
            " [ 1.73397512]\n",
            " [-0.16152562]]\n"
          ],
          "name": "stdout"
        }
      ]
    },
    {
      "cell_type": "code",
      "metadata": {
        "colab": {
          "base_uri": "https://localhost:8080/",
          "height": 312
        },
        "id": "cmAeXu-sRZp8",
        "outputId": "be28ea7a-927e-44d4-8cac-9071464b2d72"
      },
      "source": [
        "\n",
        "#Height of hill plot\n",
        "plt.plot(d,h.value)\n",
        "plt.xlabel(\"d\")\n",
        "plt.ylabel(\"height\")\n",
        "plt.title(\"height of Hill-optimised\")"
      ],
      "execution_count": 71,
      "outputs": [
        {
          "output_type": "execute_result",
          "data": {
            "text/plain": [
              "Text(0.5, 1.0, 'height of Hill-optimised')"
            ]
          },
          "metadata": {
            "tags": []
          },
          "execution_count": 71
        },
        {
          "output_type": "display_data",
          "data": {
            "image/png": "[encoded data removed]",
            "text/plain": [
              "<Figure size 432x288 with 1 Axes>"
            ]
          },
          "metadata": {
            "tags": [],
            "needs_background": "light"
          }
        }
      ]
    },
    {
      "cell_type": "code",
      "metadata": {
        "colab": {
          "base_uri": "https://localhost:8080/",
          "height": 312
        },
        "id": "sQr3aCNwY02K",
        "outputId": "c8d81e72-d36a-4496-cd7a-5f5a5b54de27"
      },
      "source": [
        "\n",
        "#u plot \n",
        "plt.plot(d,(h.value-e)) #u=h-e\n",
        "plt.xlabel(\"d\")\n",
        "plt.ylabel(\"u\")\n",
        "plt.title(\"u plot-height and elevation difference\")"
      ],
      "execution_count": 68,
      "outputs": [
        {
          "output_type": "execute_result",
          "data": {
            "text/plain": [
              "Text(0.5, 1.0, 'u plot-height and elevation difference')"
            ]
          },
          "metadata": {
            "tags": []
          },
          "execution_count": 68
        },
        {
          "output_type": "display_data",
          "data": {
            "image/png": "[encoded data removed]",
            "text/plain": [
              "<Figure size 432x288 with 1 Axes>"
            ]
          },
          "metadata": {
            "tags": [],
            "needs_background": "light"
          }
        }
      ]
    },
    {
      "cell_type": "code",
      "metadata": {
        "colab": {
          "base_uri": "https://localhost:8080/",
          "height": 590
        },
        "id": "MKRVSXVtRZUF",
        "outputId": "3811705d-7fc8-4fb3-f64b-29ba69e94088"
      },
      "source": [
        "#fill and cut function function plot\n",
        "U=np.arange(1,11,0.1)\n",
        "Uplus=np.array([max(u,0) for u in U])\n",
        "  \n",
        "phi_fill=np.array([np.square(uplus)*2+ uplus*30 for uplus in Uplus])\n",
        "phi_fill=np.reshape(phi_fill,(100,-1))\n",
        "plt.figure()\n",
        "plt.plot(U,phi_fill)\n",
        "plt.title(\"fill function\")\n",
        "plt.ylabel(\"fill function cost\")\n",
        "plt.xlabel('u')\n",
        "U=np.arange(1,11,0.1)\n",
        "Uminus=np.array([max((u),0) for u in U])\n",
        "phi_cut=np.array([np.square(uminus)*12+ uminus for uminus in Uminus])\n",
        "plt.figure()\n",
        "plt.title(\"cut function\")\n",
        "plt.ylabel(\"cut function cost\")\n",
        "plt.xlabel('u')\n",
        "plt.plot((-U),phi_cut)\n",
        "\n",
        "#CONVEXITY CAN BE SEEN FROM GRAPGH -both are convex functions ,one increasing and one decreasing"
      ],
      "execution_count": 69,
      "outputs": [
        {
          "output_type": "execute_result",
          "data": {
            "text/plain": [
              "[<matplotlib.lines.Line2D at 0x7f2840d26750>]"
            ]
          },
          "metadata": {
            "tags": []
          },
          "execution_count": 69
        },
        {
          "output_type": "display_data",
          "data": {
            "image/png": "[encoded data removed]",
            "text/plain": [
              "<Figure size 432x288 with 1 Axes>"
            ]
          },
          "metadata": {
            "tags": [],
            "needs_background": "light"
          }
        },
        {
          "output_type": "display_data",
          "data": {
            "image/png": "[encoded data removed]",
            "text/plain": [
              "<Figure size 432x288 with 1 Axes>"
            ]
          },
          "metadata": {
            "tags": [],
            "needs_background": "light"
          }
        }
      ]
    },
    {
      "cell_type": "code",
      "metadata": {
        "colab": {
          "base_uri": "https://localhost:8080/",
          "height": 312
        },
        "id": "GtqpZpUGMrOP",
        "outputId": "9886221c-2ea8-4a07-be59-b63521953ab3"
      },
      "source": [
        "#Elevation with respect to distance plot\n",
        "plt.plot(d,e)\n",
        "plt.xlabel(\"d\")\n",
        "plt.ylabel(\"elevation\")\n",
        "plt.title(\"Elevation(existing) of Hill\")"
      ],
      "execution_count": 70,
      "outputs": [
        {
          "output_type": "execute_result",
          "data": {
            "text/plain": [
              "Text(0.5, 1.0, 'Elevation(existing) of Hill')"
            ]
          },
          "metadata": {
            "tags": []
          },
          "execution_count": 70
        },
        {
          "output_type": "display_data",
          "data": {
            "image/png": "[encoded data removed]",
            "text/plain": [
              "<Figure size 432x288 with 1 Axes>"
            ]
          },
          "metadata": {
            "tags": [],
            "needs_background": "light"
          }
        }
      ]
    },
    {
      "cell_type": "code",
      "metadata": {
        "colab": {
          "base_uri": "https://localhost:8080/"
        },
        "id": "K2O3xJ_QQYSH",
        "outputId": "5a60d760-9250-4960-d80d-9ddef72821c0"
      },
      "source": [
        "type(cost)"
      ],
      "execution_count": 45,
      "outputs": [
        {
          "output_type": "execute_result",
          "data": {
            "text/plain": [
              "cvxpy.atoms.affine.add_expr.AddExpression"
            ]
          },
          "metadata": {
            "tags": []
          },
          "execution_count": 45
        }
      ]
    },
    {
      "cell_type": "code",
      "metadata": {
        "colab": {
          "base_uri": "https://localhost:8080/"
        },
        "id": "EIJd1enETlgU",
        "outputId": "e4c0b06d-b7c0-466b-8f23-1254c3169387"
      },
      "source": [
        "cost"
      ],
      "execution_count": 46,
      "outputs": [
        {
          "output_type": "execute_result",
          "data": {
            "text/plain": [
              "Expression(CONVEX, NONNEGATIVE, (100, 1))"
            ]
          },
          "metadata": {
            "tags": []
          },
          "execution_count": 46
        }
      ]
    },
    {
      "cell_type": "code",
      "metadata": {
        "colab": {
          "base_uri": "https://localhost:8080/"
        },
        "id": "Plr_ccv9UBU6",
        "outputId": "e47bcac9-bb22-4874-ad53-614bc8fa836a"
      },
      "source": [
        "print(type(e))"
      ],
      "execution_count": null,
      "outputs": [
        {
          "output_type": "stream",
          "text": [
            "<class 'numpy.ndarray'>\n"
          ],
          "name": "stdout"
        }
      ]
    }
  ]
}