{
  "nbformat": 4,
  "nbformat_minor": 0,
  "metadata": {
    "colab": {
      "name": "ANNU_EE21RESCH01010_LAB10.ipynb",
      "provenance": []
    },
    "kernelspec": {
      "name": "python3",
      "display_name": "Python 3"
    },
    "language_info": {
      "name": "python"
    }
  },
  "cells": [
    {
      "cell_type": "markdown",
      "metadata": {
        "id": "B0G5FE4tp6i7"
      },
      "source": [
        "Minimum time maneuver for a crane. A crane manipulates a load with mass m > 0\n",
        "in two dimensions using two cables attached to the load. The cables maintain angles\n",
        "±θ with respect to vertical, as shown below.\n",
        "\n",
        "\n",
        "The (scalar) tensions Tleft and Tright in the two cables are independently controllable,\n",
        "from 0 up to a given maximum tension T max. The total force on the load is\n",
        "\n",
        "F = Tleft  − sin θ\n",
        "cos θ\n",
        "\n",
        "+ Tright  sin θ\n",
        "cos θ\n",
        "\n",
        "+ mg,\n",
        "\n",
        "where g = (0, −9.8) is the acceleration due to gravity. The acceleration of the load is\n",
        "then F/m.\n",
        "We approximate the motion of the load using\n",
        "\n",
        "pi+1 = pi + hvi, vi+1 = vi + (h/m)Fi, i = 1, 2, . . . ,\n",
        "\n",
        "where pi ∈ R2 is the position of the load, vi ∈ R2 is the velocity of the load, and\n",
        "Fi ∈ R2 is the force on the load, at time t = ih. Here h > 0 is a small (given) time\n",
        "step.\n",
        "The goal is to move the load, which is initially at rest at position pinit to the position\n",
        "pdes, also at rest, in minimum time. In other words, we seek the smallest k for which\n",
        "\n",
        "p1 = pinit, pk = pdes, v1 = vk = (0, 0)\n",
        "is possible, subject to the constraints described above.\n",
        "(a) Explain how to solve this problem using convex (or quasiconvex) optimization.\n",
        "(b) Carry out the method of part (a) for the problem instance with\n",
        "\n",
        "m = 0.1, θ = 15◦\n",
        "\n",
        ", T max = 2, pinit = (0, 0), pdes = (10, 2),\n",
        "with time step h = 0.1. Report the minimum time k⋆. Plot the tensions versus\n",
        "time, and the load trajectory, i.e., the points p1, . . . , pk in R2\n",
        "\n",
        ". Does the load move\n",
        "along the line segment between pinit and pdes (i.e., the shortest path from pinit and\n",
        "pdes)? Comment briefly.\n",
        "\n",
        "\n",
        "\n",
        "NAME-**ANNU**\n",
        "\n",
        "ROLL_NO-**EE21RESCH01010**\n",
        "\n",
        "**CONVEX LAB 10.2**"
      ]
    },
    {
      "cell_type": "code",
      "metadata": {
        "id": "XZSre9eDk9vr"
      },
      "source": [
        "#Importing libraries\n",
        "import numpy as np\n",
        "import matplotlib.pyplot as plt\n",
        "import cvxpy as cp"
      ],
      "execution_count": 6,
      "outputs": []
    },
    {
      "cell_type": "code",
      "metadata": {
        "id": "OfbUp-Twka9B"
      },
      "source": [
        "#data given to us\n",
        "\n",
        "angle = 15*3.141592/180.0\n",
        "M = np.matrix([[-np.sin(angle), np.sin(angle)],\n",
        "[np.cos(angle), np.cos(angle)]])\n",
        "Tens_max = 2.0 # Max tension that each cable can apply (kNewtons)\n",
        "m = 0.1 # Mass of the load (Metric tons)-given in question\n",
        "\n",
        "pos_init = [0,0] # Init position (m)\n",
        "pos_des = [10,2] # Desired position (m)\n",
        "h_step = 0.1 # Simulation timestep (s)\n",
        "T_feasible = 0\n",
        "p_feasible = 0\n"
      ],
      "execution_count": 7,
      "outputs": []
    },
    {
      "cell_type": "markdown",
      "metadata": {
        "id": "JuLhld-YryKD"
      },
      "source": [
        "question part 1\n",
        "\n",
        "Nature of constraints:All the constraints defined for this problem are linear in nature.\n",
        "\n",
        "Nature of objective:Here objective is to minimize K value. i.e The goal is to move the load, which is initially at rest at position pinit to the position\n",
        "pdes, also at rest, in minimum time.\n",
        "\n",
        "So,This objective cannot take fractional values and thus it is **Not CONVEX** in nature.\n",
        "\n",
        "So,this problem is **QUASI CONVEX**, as constraints are linear in nature and objective is not convex.\n",
        "\n",
        "\n",
        "**SOLVING APPROACH**:Can be solved using Sublevel set intuition:Bisection algorithm\n",
        "\n",
        "taking any appropriate region for k ,then checking feasibility check for upcoming intervals.\n",
        "\n",
        "The problem as stated is quasiconvex: To see if k\n",
        "⋆ ≤ k, we simply check if there\n",
        "exists a set of variables that satisfy the constraints, together with pk = p\n",
        "des\n",
        ",\n",
        "vk = 0.\n",
        "For a given value for k, we can solve a convex feasibility problem (in fact, an\n",
        "LP) to determine if such a trajectory exists. Let T ∈ R\n",
        "2×k−1\n",
        "be a matrix of the\n",
        "tensions, so that T1i\n",
        ", T2i are T\n",
        "left\n",
        ", T\n",
        "right at time ih, respectively. Then the force\n",
        "applied to the load at time ih be Fi = MTi + mg where\n",
        "M =\n",
        "\u0014\n",
        "− sin θ sin θ\n",
        "cos θ cos θ\n",
        "\u0015\n",
        ".\n",
        "To find a feasible trajectory, we solve the LP\n",
        "minimize 0\n",
        "subject to 0 \u0016 T \u0016 T\n",
        "max\n",
        ",\n",
        "vi+1 = vi + (h/m)Fi\n",
        ", i = 1, . . . , k − 1,\n",
        "pi+1 = pi + hvi\n",
        ", i = 1, . . . , k − 1,\n",
        "p1 = p\n",
        "init, pk = p\n",
        "des, v1 = vk = 0.\n",
        "We can then find the minimum time by finding the smallest k for which the above\n",
        "problem is feasible. This can be done by bisection, or by simply increasing k until\n",
        "the problem becomes feasible.\n"
      ]
    },
    {
      "cell_type": "markdown",
      "metadata": {
        "id": "und9TWDROqLQ"
      },
      "source": [
        "Question part 2\n",
        "\n",
        "reporting minimum K value which is 34.\n",
        "\n",
        " We find that k\n",
        "optimal = 34, corresponding to t = 3.4 seconds. From the trajectory plot,\n",
        "we see that the load does not travel along the line between the initial and final\n",
        "positions. Since the load must cross a large horizontal distance, we maximize the\n",
        "horizontal force which is accomplished by setting the tension in the right cable to\n",
        "T\n",
        "max. As the tension produces a force along the line of the cable, the load rises\n",
        "up in addition to accelerating in the horizontal direction.\n",
        "\n",
        "Code is shown below-"
      ]
    },
    {
      "cell_type": "code",
      "metadata": {
        "colab": {
          "base_uri": "https://localhost:8080/",
          "height": 905
        },
        "id": "O2k2jI9mlndo",
        "outputId": "bc0a1cc8-06ad-4e39-b85d-a8ccf2cd5f77"
      },
      "source": [
        "#Bisection algorithm\n",
        "lower_bound = 10 # assuming for bisection algo\n",
        "upper_bound = 50 # assuming for bisection algo\n",
        "\n",
        "for i in range(lower_bound,upper_bound):\n",
        "   #initialising with mid point\n",
        "   #Here objective is to minimize K value. i.e The goal is to move the load, which is initially at rest at position pinit to the position pdes, also at rest, in minimum time.\n",
        "   k = (upper_bound+lower_bound)/2\n",
        "   k=int(k)\n",
        "   \n",
        "   #cvxpy variable declaration\n",
        "   Tens = cp.Variable((2,(k-1)),name=\"tension\")\n",
        "   velocity = cp.Variable((2,k),name=\"velocity\")\n",
        "   pos = cp.Variable((2,k),name=\"position\")\n",
        "\n",
        "   #constraints declaration\n",
        "   g=np.zeros([2,k-1])\n",
        "   g[0,:]=[0 for i in range (k-1)]\n",
        "   g[1,:]=[-9.8 for i in range (k-1)]\n",
        "   Force = M*Tens + m*g\n",
        "   constraints=[]\n",
        "   func1=pos[:,0:k-1] + h_step*velocity[:,0:k-1]\n",
        "   #constraints on position expression\n",
        "   constraints += [pos[:,1:k] == func1]\n",
        "   #constraints on maximum tension\n",
        "   constraints += [Tens>=0, Tens <= Tens_max]\n",
        "   #constraints on position\n",
        "   constraints += [pos[:,0] == pos_init, pos[:,k-1] == pos_des]\n",
        "   #constraints on velocity\n",
        "   constraints += [velocity[:,0] == 0, velocity[:,k-1] == 0]\n",
        "   #constraints on velocity expression\n",
        "   func2=velocity[:,0:k-1] + (h_step/m)*Force\n",
        "   constraints += [velocity[:,1:k] == func2]\n",
        "\n",
        "   #Objective declaration\n",
        "   objective=cp.Minimize(0)\n",
        "   prob = cp.Problem(objective,constraints)\n",
        "   optimum = prob.solve()\n",
        "\n",
        "   #checking with feasibility\n",
        "\n",
        "   if optimum == 0:\n",
        "     upper_bound = k\n",
        "     T_feasible = Tens.value\n",
        "     p_feasible = pos.value\n",
        "   else: \n",
        "     lower_bound = k\n",
        "\n",
        "k = upper_bound;\n",
        "\n",
        "print(\"QuasiConvex problem is\",prob)\n",
        "print(\"\\n\")\n",
        "print(\"Here objective is to minimize K value. i.e The goal is to move the load, which is initially at rest at position pinit to the position pdes, also at rest, in minimum time.\")\n",
        "print(\"minimum k value is\",k)\n",
        "\n",
        "#Load trajectory grapgh\n",
        "plt.figure(1)\n",
        "plt.plot(p_feasible[0,:].T,p_feasible[1,:].T)\n",
        "plt.title(\" load trajectory\")\n",
        "plt.ylabel(\"trajectory\")\n",
        "\n",
        "#Tension grapgh\n",
        "plt.figure(2)\n",
        "plt.plot(T_feasible.T)\n",
        "plt.title(\"tensions versus time\")\n",
        "plt.ylabel(\"Tensions\")\n",
        "plt.xlabel(\"time\")\n"
      ],
      "execution_count": 9,
      "outputs": [
        {
          "output_type": "stream",
          "text": [
            "QuasiConvex problem is minimize 0.0\n",
            "subject to position[0:2, 1:33] == position[0:2, 0:32] + Promote(0.1, (2, 32)) * velocity[0:2, 0:32]\n",
            "           0.0 <= tension\n",
            "           tension <= 2.0\n",
            "           position[0:2, 0] == [0. 0.]\n",
            "           position[0:2, 32] == [10.  2.]\n",
            "           velocity[0:2, 0] == 0.0\n",
            "           velocity[0:2, 32] == 0.0\n",
            "           velocity[0:2, 1:33] == velocity[0:2, 0:32] + Promote(1.0, (2, 32)) * ([[-0.25881899  0.25881899]\n",
            " [ 0.96592584  0.96592584]] * tension + [[ 0.    0.    0.    0.    0.    0.    0.    0.    0.    0.    0.    0.\n",
            "   0.    0.    0.    0.    0.    0.    0.    0.    0.    0.    0.    0.\n",
            "   0.    0.    0.    0.    0.    0.    0.    0.  ]\n",
            " [-0.98 -0.98 -0.98 -0.98 -0.98 -0.98 -0.98 -0.98 -0.98 -0.98 -0.98 -0.98\n",
            "  -0.98 -0.98 -0.98 -0.98 -0.98 -0.98 -0.98 -0.98 -0.98 -0.98 -0.98 -0.98\n",
            "  -0.98 -0.98 -0.98 -0.98 -0.98 -0.98 -0.98 -0.98]])\n",
            "\n",
            "\n",
            "Here objective is to minimize K value. i.e The goal is to move the load, which is initially at rest at position pinit to the position pdes, also at rest, in minimum time.\n",
            "minimum k value is 34\n"
          ],
          "name": "stdout"
        },
        {
          "output_type": "execute_result",
          "data": {
            "text/plain": [
              "Text(0.5, 0, 'time')"
            ]
          },
          "metadata": {
            "tags": []
          },
          "execution_count": 9
        },
        {
          "output_type": "display_data",
          "data": {
            "image/png": "[encoded data removed]",
            "text/plain": [
              "<Figure size 432x288 with 1 Axes>"
            ]
          },
          "metadata": {
            "tags": [],
            "needs_background": "light"
          }
        },
        {
          "output_type": "display_data",
          "data": {
            "image/png": "[encoded data removed]",
            "text/plain": [
              "<Figure size 432x288 with 1 Axes>"
            ]
          },
          "metadata": {
            "tags": [],
            "needs_background": "light"
          }
        }
      ]
    }
  ]
}